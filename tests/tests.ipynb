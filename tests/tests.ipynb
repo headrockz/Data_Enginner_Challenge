{
 "cells": [
  {
   "cell_type": "code",
   "execution_count": 1,
   "source": [
    "import pandas as pd\n",
    "from datetime import *\n",
    "import sqlite3"
   ],
   "outputs": [],
   "metadata": {}
  },
  {
   "cell_type": "code",
   "execution_count": 2,
   "source": [
    "df = pd.read_excel('../data.xlsx')\n",
    "df.tail(3)"
   ],
   "outputs": [
    {
     "output_type": "execute_result",
     "data": {
      "text/plain": [
       "    Location   Longitude   Latitude          Arrived  \\\n",
       "13        14 -108.083496  43.245203  7.18.2019 20:27   \n",
       "14        15 -108.050537  44.465151  7.19.2019 10:07   \n",
       "15        16 -110.269775  44.504341  7.19.2019 12:49   \n",
       "\n",
       "    Gallons of Gas in Tank at Arrival         Departed  \\\n",
       "13                               10.9   7.19.2019 8:14   \n",
       "14                                8.0  7.19.2019 10:27   \n",
       "15                                4.2              NaN   \n",
       "\n",
       "    Gallons of Gas in Tank at Departure  \n",
       "13                                 10.9  \n",
       "14                                  8.0  \n",
       "15                                  NaN  "
      ],
      "text/html": [
       "<div>\n",
       "<style scoped>\n",
       "    .dataframe tbody tr th:only-of-type {\n",
       "        vertical-align: middle;\n",
       "    }\n",
       "\n",
       "    .dataframe tbody tr th {\n",
       "        vertical-align: top;\n",
       "    }\n",
       "\n",
       "    .dataframe thead th {\n",
       "        text-align: right;\n",
       "    }\n",
       "</style>\n",
       "<table border=\"1\" class=\"dataframe\">\n",
       "  <thead>\n",
       "    <tr style=\"text-align: right;\">\n",
       "      <th></th>\n",
       "      <th>Location</th>\n",
       "      <th>Longitude</th>\n",
       "      <th>Latitude</th>\n",
       "      <th>Arrived</th>\n",
       "      <th>Gallons of Gas in Tank at Arrival</th>\n",
       "      <th>Departed</th>\n",
       "      <th>Gallons of Gas in Tank at Departure</th>\n",
       "    </tr>\n",
       "  </thead>\n",
       "  <tbody>\n",
       "    <tr>\n",
       "      <th>13</th>\n",
       "      <td>14</td>\n",
       "      <td>-108.083496</td>\n",
       "      <td>43.245203</td>\n",
       "      <td>7.18.2019 20:27</td>\n",
       "      <td>10.9</td>\n",
       "      <td>7.19.2019 8:14</td>\n",
       "      <td>10.9</td>\n",
       "    </tr>\n",
       "    <tr>\n",
       "      <th>14</th>\n",
       "      <td>15</td>\n",
       "      <td>-108.050537</td>\n",
       "      <td>44.465151</td>\n",
       "      <td>7.19.2019 10:07</td>\n",
       "      <td>8.0</td>\n",
       "      <td>7.19.2019 10:27</td>\n",
       "      <td>8.0</td>\n",
       "    </tr>\n",
       "    <tr>\n",
       "      <th>15</th>\n",
       "      <td>16</td>\n",
       "      <td>-110.269775</td>\n",
       "      <td>44.504341</td>\n",
       "      <td>7.19.2019 12:49</td>\n",
       "      <td>4.2</td>\n",
       "      <td>NaN</td>\n",
       "      <td>NaN</td>\n",
       "    </tr>\n",
       "  </tbody>\n",
       "</table>\n",
       "</div>"
      ]
     },
     "metadata": {},
     "execution_count": 2
    }
   ],
   "metadata": {}
  },
  {
   "cell_type": "code",
   "execution_count": 3,
   "source": [
    "from math import radians, cos, sin, asin, sqrt\n",
    "def distance_miles(lon1, lat1, lon2, lat2):\n",
    "    lon1, lat1, lon2, lat2 = map(radians, [lon1, lat1, lon2, lat2])\n",
    " \n",
    "    dlon = lon2 - lon1 \n",
    "    dlat = lat2 - lat1 \n",
    "    a = sin(dlat/2)**2 + cos(lat1) * cos(lat2) * sin(dlon/2)**2\n",
    "    c = 2 * asin(sqrt(a)) \n",
    "    miles = (6371 * c) / 1.609\n",
    "    return miles"
   ],
   "outputs": [],
   "metadata": {}
  },
  {
   "cell_type": "code",
   "execution_count": 8,
   "source": [
    "distances = df[['Longitude', 'Latitude']]\n",
    "times = df[['Arrived', 'Departed']]\n",
    "gallons = df[['Gallons of Gas in Tank at Arrival', 'Gallons of Gas in Tank at Departure']]"
   ],
   "outputs": [],
   "metadata": {}
  },
  {
   "cell_type": "code",
   "execution_count": 9,
   "source": [
    "cont = 1\n",
    "distances = distances.values\n",
    "distances_miles = list()\n",
    "\n",
    "for i in range(len(distances)):\n",
    "    distances_miles.append(distance_miles(float(distances[i][0]), float(distances[i][1]), float(distances[i+1][0]), float(distances[i+1][1])))\n",
    "    \n",
    "    if cont == len(distances) - 1:\n",
    "        break\n",
    "\n",
    "    cont += 1\n",
    "\n",
    "distances_miles, len(distances_miles)\n"
   ],
   "outputs": [
    {
     "output_type": "execute_result",
     "data": {
      "text/plain": [
       "([254.6638030824697,\n",
       "  69.54610671437179,\n",
       "  152.0370151227768,\n",
       "  117.19970901131127,\n",
       "  98.87533747081315,\n",
       "  129.05526617856293,\n",
       "  101.6653414242826,\n",
       "  119.0641122816983,\n",
       "  72.3387413758515,\n",
       "  104.78391009056743,\n",
       "  125.46465367781154,\n",
       "  221.2040272111314,\n",
       "  154.19213896540307,\n",
       "  84.32427868534609,\n",
       "  109.44806800428725],\n",
       " 15)"
      ]
     },
     "metadata": {},
     "execution_count": 9
    }
   ],
   "metadata": {}
  },
  {
   "cell_type": "code",
   "execution_count": 10,
   "source": [
    "f = '%m.%d.%Y %H:%M'\n",
    "\n",
    "times = times.values\n",
    "cont = 1 \n",
    "hours = list()\n",
    "for i in range(len(times)):\n",
    "    diff = (datetime.strptime(times[i+1][0], f) - datetime.strptime(times[i][1], f)).total_seconds()\n",
    "    hours.append(diff / (60 * 60))\n",
    "\n",
    "    if cont == len(times) - 1:\n",
    "        break\n",
    "    cont += 1\n",
    "    \n",
    "hours, len(hours)"
   ],
   "outputs": [
    {
     "output_type": "execute_result",
     "data": {
      "text/plain": [
       "([5.483333333333333,\n",
       "  1.3666666666666667,\n",
       "  2.35,\n",
       "  2.5166666666666666,\n",
       "  1.6,\n",
       "  2.7,\n",
       "  1.5833333333333333,\n",
       "  2.183333333333333,\n",
       "  1.1333333333333333,\n",
       "  1.85,\n",
       "  2.2666666666666666,\n",
       "  3.9833333333333334,\n",
       "  2.4,\n",
       "  1.8833333333333333,\n",
       "  2.3666666666666667],\n",
       " 15)"
      ]
     },
     "metadata": {},
     "execution_count": 10
    }
   ],
   "metadata": {}
  },
  {
   "cell_type": "code",
   "execution_count": 13,
   "source": [
    "cont = 1\n",
    "gallons = gallons.values\n",
    "spent_gallons = list()\n",
    "\n",
    "for i in range(len(gallons)):\n",
    "    spent_gallons.append(gallons[i][1] - gallons[i+1][0])\n",
    "    \n",
    "    if cont == len(gallons)-1:\n",
    "        break\n",
    "\n",
    "    cont += 1\n",
    "\n",
    "spent_gallons, len(spent_gallons)\n"
   ],
   "outputs": [
    {
     "output_type": "execute_result",
     "data": {
      "text/plain": [
       "([9.2,\n",
       "  2.3000000000000007,\n",
       "  5.1,\n",
       "  4.5,\n",
       "  3.0,\n",
       "  4.800000000000001,\n",
       "  3.299999999999999,\n",
       "  3.8000000000000007,\n",
       "  2.5,\n",
       "  3.3999999999999995,\n",
       "  4.4,\n",
       "  7.1,\n",
       "  5.1,\n",
       "  2.9000000000000004,\n",
       "  3.8],\n",
       " 15)"
      ]
     },
     "metadata": {},
     "execution_count": 13
    }
   ],
   "metadata": {}
  },
  {
   "cell_type": "code",
   "execution_count": 17,
   "source": [
    "conn = sqlite3.connect('../database.db')\n",
    "cursor = conn.cursor()"
   ],
   "outputs": [],
   "metadata": {}
  },
  {
   "cell_type": "code",
   "execution_count": 15,
   "source": [
    "consult = '''\n",
    "insert or ignore into test (id, distance, time, gallons, miles_hour) values (?, ?, ?, ?, ?)\n",
    "'''\n",
    "\n",
    "for i in range(len(hours)):\n",
    "    mh = distances_miles[i] / hours[i]\n",
    "    cursor.execute(consult, (i, distances_miles[i], round(hours[i], 3), round(spent_gallons[i], 2), mh))\n",
    "    conn.commit()\n"
   ],
   "outputs": [],
   "metadata": {}
  },
  {
   "cell_type": "code",
   "execution_count": null,
   "source": [
    "cursor.execute('SELECT distance, time, gallons, MAX(miles_hour) FROM infos')\n",
    "cursor.fetchall()"
   ],
   "outputs": [],
   "metadata": {}
  },
  {
   "cell_type": "code",
   "execution_count": 16,
   "source": [
    "cursor.close()\n",
    "conn.close()"
   ],
   "outputs": [],
   "metadata": {}
  }
 ],
 "metadata": {
  "orig_nbformat": 4,
  "language_info": {
   "name": "python",
   "version": "3.9.5",
   "mimetype": "text/x-python",
   "codemirror_mode": {
    "name": "ipython",
    "version": 3
   },
   "pygments_lexer": "ipython3",
   "nbconvert_exporter": "python",
   "file_extension": ".py"
  },
  "kernelspec": {
   "name": "python3",
   "display_name": "Python 3.9.5 64-bit ('venv')"
  },
  "interpreter": {
   "hash": "05107439a7aae0a47234b62af31802ec4747440f47c181bfd5a3808d478f7d46"
  }
 },
 "nbformat": 4,
 "nbformat_minor": 2
}